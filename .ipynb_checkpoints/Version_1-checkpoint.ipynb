{
 "cells": [
  {
   "cell_type": "code",
   "execution_count": 1,
   "metadata": {
    "inputHidden": false,
    "outputExpanded": true,
    "outputHidden": true
   },
   "outputs": [],
   "source": [
    "import requests\n",
    "import pandas as pd\n",
    "import numpy as np\n",
    "import json\n",
    "import time\n",
    "from tqdm import tqdm"
   ]
  },
  {
   "cell_type": "code",
   "execution_count": 18,
   "metadata": {},
   "outputs": [],
   "source": [
    "class DataLoader:\n",
    "\n",
    "    def __init__(self):\n",
    "        self.url_dict = {\n",
    "            'tick_latest': 'https://bittrex.com/Api/v2.0/pub/market/GetLatestTick?marketName={}&tickInterval={}',\n",
    "            'all_markets': 'https://bittrex.com/api/v1.1/public/getmarkets'\n",
    "        }\n",
    "        self.all_markets = self.get_all_markets()\n",
    "        self.total_markets = len(self.all_markets)\n",
    "\n",
    "    def get_result_from_url(self, url):\n",
    "        \"\"\"\n",
    "        Helper function to get result from a url.\n",
    "        :param url: URL of the API\n",
    "        :return: Success (if the query was successful)(Boolean), Result dictionary\n",
    "        \"\"\"\n",
    "        r = json.loads(requests.get(url).content)\n",
    "        if r['success']:\n",
    "            return r['success'], r['result']\n",
    "        return r['success'], r['message']\n",
    "\n",
    "    def get_all_markets(self):\n",
    "        \"\"\"\n",
    "        Get a list of all available markets.\n",
    "        :return: List of all available markets\n",
    "        \"\"\"\n",
    "        success, result = self.get_result_from_url(self.url_dict['all_markets'])\n",
    "        if success:\n",
    "            all_currencies = [i['MarketName'] for i in result]\n",
    "            return all_currencies\n",
    "        return []\n",
    "\n",
    "    def get_latest_tick_data(self, symbol, time_frame):\n",
    "        \"\"\"\n",
    "        Get data of latest tick of the symbol\n",
    "        :param symbol: Symbol to get data of\n",
    "        :param time_frame: Timeframe for the ticker\n",
    "        :return: Dictionary containing latest tick data for the symbol at timeframe\n",
    "        \"\"\"\n",
    "        success, data = self.get_result_from_url(self.url_dict['tick_latest'].format(symbol, time_frame))\n",
    "        return success, data[0]\n",
    "\n",
    "    def get_all_ticks_data(self, start= 0, end= None):\n",
    "        \"\"\"\n",
    "        Get data for all ticks\n",
    "        :return: Pandas DataFrame containing latest tick data for all tickers.\n",
    "        \"\"\"\n",
    "        if end == None:\n",
    "            end = len(self.all_markets)\n",
    "        data = {\n",
    "            'Symbol': [],\n",
    "            'Volume': [],\n",
    "            'Close': [],\n",
    "            'Open': [],\n",
    "            'High': [],\n",
    "            'Low': [],\n",
    "            'Timestamp': []\n",
    "        }\n",
    "        for i in tqdm(range(start, end)):\n",
    "            sym = self.all_markets[i]\n",
    "            try:\n",
    "                sucess, temp_data = self.get_latest_tick_data(symbol=sym, time_frame='oneMin')\n",
    "                if sucess == False:\n",
    "                    print(\"Error for symbol {}\".format(sym))\n",
    "                    continue\n",
    "                data['Symbol'].append(sym)\n",
    "                data['Volume'].append(temp_data['V'])\n",
    "                data['Close'].append(temp_data['C'])\n",
    "                data['Open'].append(temp_data['O'])\n",
    "                data['High'].append(temp_data['H'])\n",
    "                data['Low'].append(temp_data['L'])\n",
    "                data['Timestamp'].append(temp_data['T'])\n",
    "            except Exception as e:\n",
    "                print(e)\n",
    "        return pd.DataFrame(data=data)\n"
   ]
  },
  {
   "cell_type": "code",
   "execution_count": 19,
   "metadata": {},
   "outputs": [],
   "source": [
    "D = DataLoader()"
   ]
  },
  {
   "cell_type": "code",
   "execution_count": 20,
   "metadata": {},
   "outputs": [
    {
     "name": "stderr",
     "output_type": "stream",
     "text": [
      "100%|██████████| 60/60 [00:45<00:00,  1.32it/s]\n"
     ]
    }
   ],
   "source": [
    "data = D.get_all_ticks_data(end=60)"
   ]
  },
  {
   "cell_type": "code",
   "execution_count": null,
   "metadata": {},
   "outputs": [
    {
     "name": "stderr",
     "output_type": "stream",
     "text": [
      " 22%|██▏       | 13/60 [00:09<00:34,  1.36it/s]"
     ]
    }
   ],
   "source": [
    "time.sleep(20)\n",
    "data2 = D.get_all_ticks_data(end= 60)"
   ]
  },
  {
   "cell_type": "code",
   "execution_count": null,
   "metadata": {},
   "outputs": [],
   "source": []
  }
 ],
 "metadata": {
  "kernel_info": {
   "name": "python3"
  },
  "kernelspec": {
   "display_name": "Python 3",
   "language": "python",
   "name": "python3"
  },
  "language_info": {
   "codemirror_mode": {
    "name": "ipython",
    "version": 3
   },
   "file_extension": ".py",
   "mimetype": "text/x-python",
   "name": "python",
   "nbconvert_exporter": "python",
   "pygments_lexer": "ipython3",
   "version": "3.6.4"
  },
  "nteract": {
   "version": "0.11.6"
  }
 },
 "nbformat": 4,
 "nbformat_minor": 4
}
